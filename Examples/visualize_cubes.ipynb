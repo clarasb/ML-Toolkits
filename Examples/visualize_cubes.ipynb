{
 "cells": [
  {
   "cell_type": "markdown",
   "id": "bcdc0bb5518a402e",
   "metadata": {},
   "source": [
    "# 3D Visualization of Earth System Data Cubes using Lexcube\n",
    "\n",
    "## Introduction\n",
    "\n",
    "This notebook demonstrates how to visualize Earth System Data Cubes (ESDC) in 3D using the Lexcube library. The focus is on providing an enhanced visual representation of the data used in three different machine learning notebooks that utilize PyTorch, TensorFlow, and Scikit-learn for predicting missing land surface temperature values from air temperature values. The datacubes involved in these analyses are:\n",
    "\n",
    " - land_surface_temperature\n",
    " - air_temperature_2m\n",
    "\n",
    "## Purpose\n",
    "\n",
    "The primary goal of this notebook is to offer a comprehensive and interactive 3D visualization of the datacubes, facilitating a better understanding of the spatial and temporal relationships within the data. This notebook complements the following machine learning examples:\n",
    "\n",
    " - ML on ESDC using PyTorch: Demonstrates linear regression for predicting missing land surface temperature values from air temperature values using PyTorch.\n",
    " - ML on ESDC using TensorFlow: Showcases a similar predictive model implemented in TensorFlow.\n",
    " - ML on ESDC using Scikit-learn: Uses Scikit-learn to achieve the same predictive goal."
   ]
  },
  {
   "cell_type": "code",
   "execution_count": 1,
   "id": "initial_id",
   "metadata": {},
   "outputs": [],
   "source": [
    "import lexcube\n",
    "from xcube.core.store import new_data_store\n"
   ]
  },
  {
   "cell_type": "code",
   "execution_count": 2,
   "id": "e968359d-db06-4700-8223-d1b256d1727f",
   "metadata": {},
   "outputs": [],
   "source": [
    "data_store = new_data_store(\"s3\", root=\"esdl-esdc-v2.1.1\", storage_options=dict(anon=True))\n",
    "dataset    = data_store.open_data('esdc-8d-0.083deg-184x270x270-2.1.1.zarr')\n",
    "\n",
    "# Smaller cube for demo case\n",
    "start_time = \"2002-05-21\"\n",
    "end_time   = \"2002-05-29\"\n",
    "dataset    = dataset[[\"land_surface_temperature\", \"air_temperature_2m\"]].sel(time=slice(start_time, end_time))\n"
   ]
  },
  {
   "cell_type": "markdown",
   "id": "2620846ab4ac4610",
   "metadata": {},
   "source": [
    "The following visualization refers to the air temperature data cube based on which the missing land surface temperature values are predicted."
   ]
  },
  {
   "cell_type": "code",
   "execution_count": 3,
   "id": "6cc8b086-7c8f-4b9c-80b5-f95a975dcda8",
   "metadata": {},
   "outputs": [
    {
     "data": {
      "application/vnd.jupyter.widget-view+json": {
       "model_id": "1faf177b8df64f0085b6ca79bdebd178",
       "version_major": 2,
       "version_minor": 0
      },
      "text/plain": [
       "Cube3DWidget(api_metadata={'/api': {'status': 'ok', 'api_version': 5}, '/api/datasets': [{'id': 'default', 'sh…"
      ]
     },
     "execution_count": 3,
     "metadata": {},
     "output_type": "execute_result"
    }
   ],
   "source": [
    "at_ds = dataset['air_temperature_2m']\n",
    "w1    = lexcube.Cube3DWidget(at_ds, cmap=\"thermal\")\n",
    "\n",
    "w1"
   ]
  },
  {
   "cell_type": "code",
   "execution_count": 4,
   "id": "70e4dd2f-7c2d-42e0-b634-93102010fbb3",
   "metadata": {},
   "outputs": [
    {
     "data": {
      "application/vnd.jupyter.widget-view+json": {
       "model_id": "e1e4eb7c719a48859d9a8f3580e31612",
       "version_major": 2,
       "version_minor": 0
      },
      "text/plain": [
       "Sliders(children=(HBox(children=(IntRangeSlider(value=(0, 4319), description='lon:', max=4319), Label(value='-…"
      ]
     },
     "execution_count": 4,
     "metadata": {},
     "output_type": "execute_result"
    }
   ],
   "source": [
    "w1.show_sliders()"
   ]
  },
  {
   "cell_type": "markdown",
   "id": "9b4301a2-df45-43eb-9150-46c0d2519507",
   "metadata": {},
   "source": [
    "The data cube displayed next corresponds to the land surface temperature."
   ]
  },
  {
   "cell_type": "code",
   "execution_count": 5,
   "id": "99561855-c80a-4bff-929d-f3c66aeda73e",
   "metadata": {},
   "outputs": [
    {
     "name": "stderr",
     "output_type": "stream",
     "text": [
      "/home/julia/miniconda3/envs/cube_vis/lib/python3.10/site-packages/jupyter_client/session.py:721: UserWarning: Message serialization failed with:\n",
      "Out of range float values are not JSON compliant\n",
      "Supporting this message is deprecated in jupyter-client 7, please make sure your message is JSON-compliant\n",
      "  content = self.pack(content)\n"
     ]
    },
    {
     "data": {
      "application/vnd.jupyter.widget-view+json": {
       "model_id": "252e194061124990a900fab7046f57f2",
       "version_major": 2,
       "version_minor": 0
      },
      "text/plain": [
       "Cube3DWidget(api_metadata={'/api': {'status': 'ok', 'api_version': 5}, '/api/datasets': [{'id': 'default', 'sh…"
      ]
     },
     "execution_count": 5,
     "metadata": {},
     "output_type": "execute_result"
    }
   ],
   "source": [
    "lst_ds = dataset['land_surface_temperature']\n",
    "w2 = lexcube.Cube3DWidget(lst_ds, cmap=\"thermal\")\n",
    "\n",
    "w2"
   ]
  },
  {
   "cell_type": "code",
   "execution_count": 6,
   "id": "2f0dedf4-95d4-42ac-b5ec-c2fb31b082a8",
   "metadata": {},
   "outputs": [
    {
     "data": {
      "application/vnd.jupyter.widget-view+json": {
       "model_id": "f719a1dd98904b14ba54f6a112ef333c",
       "version_major": 2,
       "version_minor": 0
      },
      "text/plain": [
       "Sliders(children=(HBox(children=(IntRangeSlider(value=(0, 4319), description='lon:', max=4319), Label(value='-…"
      ]
     },
     "execution_count": 6,
     "metadata": {},
     "output_type": "execute_result"
    }
   ],
   "source": [
    "w2.show_sliders()"
   ]
  }
 ],
 "metadata": {
  "kernelspec": {
   "display_name": "Python 3 (ipykernel)",
   "language": "python",
   "name": "python3"
  },
  "language_info": {
   "codemirror_mode": {
    "name": "ipython",
    "version": 3
   },
   "file_extension": ".py",
   "mimetype": "text/x-python",
   "name": "python",
   "nbconvert_exporter": "python",
   "pygments_lexer": "ipython3",
   "version": "3.10.14"
  }
 },
 "nbformat": 4,
 "nbformat_minor": 5
}
