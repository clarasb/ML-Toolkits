{
 "cells": [
  {
   "cell_type": "markdown",
   "id": "e20755ed31a7d277",
   "metadata": {
    "collapsed": false,
    "jupyter": {
     "outputs_hidden": false
    }
   },
   "source": [
    "# General functioning"
   ]
  },
  {
   "cell_type": "markdown",
   "id": "5f0755c068719de7",
   "metadata": {
    "collapsed": false,
    "jupyter": {
     "outputs_hidden": false
    }
   },
   "source": [
    "The algorithm is divided into two main parts:\n",
    "\n",
    "1. data_preparation.py -> Selecting the gaps: cut temporal and spatial data of a given variable from a xcube data cube and if requested create artificial gaps.\n",
    "2. gapfilling.py -> Fill in the gaps: estimate the values in these gaps by creating a model for each pixel.\n",
    "\n",
    "Each time 'EarthSystemDataCubeS3(ds_name, variable, dimensions, artificial_gaps, actual_matrix).get_data()' is executed, a new directory is created in 'application_results/'.\n",
    "Inside this directory the class \"GapDataset\" creates 2 subdirectories. \n",
    "In 'History/' all samples except one matrix from the specified time period and area are stored with the corresponding values of the specified variable for each pixel.\n",
    "The only exception is the randomly selected actual array where the artificial gaps are created.\n",
    "If artificial gaps should be created, the arrays with the artificial gaps are stored in 'GapImitation/' with different gap sizes in each array.\n",
    "Two other arrays are stored in the corresponding subdirectory 'application_result/.../'.\n",
    "The first is the current matrix mentioned earlier and the other is an array with the extra data e.g. corresponding land cover class values for each value in the matrix.\n",
    "The extra matrix can be used as a predictor configuration for the gap filling process.\n",
    "\n",
    "In the second step the execution of 'SupportVectorRegressionGapfill(ds_name, hyperparameters, predictor).gapfill()' creates the subdirectory 'Results/'.\n",
    "For each gap the values will be estimated. \n",
    "The average difference of the estimated value and the actual value (only available at artificial gaps) of each gap will be calculated as well as the mean absolute error based on cross validation. \n",
    "The filled arrays will be stored in 'Results/' subdirectory.\n"
   ]
  },
  {
   "cell_type": "markdown",
   "id": "a1be913410a58df0",
   "metadata": {
    "collapsed": false,
    "jupyter": {
     "outputs_hidden": false
    }
   },
   "source": [
    "## Data\n",
    "\n",
    "The currently used data is from the [xcube](https://xcube.readthedocs.io/en/latest/installation.html) dataset.\n",
    "This gapfilling algorithms works currently for a Earth System Data Cube but its functionality can be adapted for other gapfilling use cases by inheriting from the GapDataset class.\n",
    "For more information about the xcube data, follow the link.  "
   ]
  },
  {
   "cell_type": "markdown",
   "id": "f28b946dacc656a1",
   "metadata": {
    "collapsed": false,
    "jupyter": {
     "outputs_hidden": false
    }
   },
   "source": [
    "## Parameters\n",
    "\n",
    "### GapDataset class\n",
    "\n",
    "#### Subclasses\n",
    "- a subclass needs to be selected to perform the data preparation algorithm -> it selected the origin of the dataset, other datacubes as inherited classes as well\n",
    "- EarthSystemDataCubeS3\n",
    "\n",
    "#### ds_name\n",
    "- specify the name of the dataset -> a new directory with this name will be created in 'application_results/' - if a directory with this name already exists, it will be overwritten\n",
    "- DEFAULT: 'Test123'\n",
    "- other options: \n",
    "    - free choice - no restriction for the naming convention\n",
    "\n",
    "#### variable\n",
    "- variable that will be estimated. More possible variables from the Earth System Data Cube can be found [here](https://deepesdl.readthedocs.io/en/latest/datasets/ESDC/#variable-list)\n",
    "- DEFAULT: 'land_surface_temperature'\n",
    "- other options:\n",
    "    - 'air_temperature_2m'\n",
    "\n",
    "#### dimensions\n",
    "- dimensions of the data cube that will be sliced e.g. lat, lon, times\n",
    "- DEFAULT: dimensions = {'lat': (54, 48), 'lon': (6, 15), 'times': (datetime.date(2008, 11, 1), datetime.date(2008, 12, 31))}\n",
    "- other options:\n",
    "    - free choice - global range: lat = (90, -90), lon = (-180, 180), times: total range from 1979-2018, but most values are recorded from 2002-2011\n",
    "\n",
    "#### artificial_gaps\n",
    "- list of artificial gaps that can be created -> the gapfilling algorithm performs on artificial gaps if they are stated; if this parameter is None, it estimates real gaps in the matrix\n",
    "- DEFAULT: None\n",
    "- other options\n",
    "    - free choice - total range for each element from 0-1, e.g. [0.001, 0.01, 0.1, 0.25, 0.5, 0.75]"
   ]
  },
  {
   "cell_type": "markdown",
   "id": "bd70ba521cb12e93",
   "metadata": {
    "collapsed": false,
    "jupyter": {
     "outputs_hidden": false
    }
   },
   "source": [
    "### Gapfiller class\n",
    "\n",
    "#### Subclasses\n",
    "- a subclass needs to be selected to perform the gapfilling algorithm - other learning algorithms such as Random Forest or other regressions can be added as inherited classes as well\n",
    "- SupportVectorRegressionGapfill\n",
    "\n",
    "#### ds_name\n",
    "- same as the name for the GapDataset class -> otherwise no directory will be found and the gapfilling algorithm cannot perform\n",
    "- DEFAULT: 'Test123'\n",
    "- other options: \n",
    "    - free choice - but it should have the name of an existing directory in 'application_results/'\n",
    "\n",
    "#### hyperparameters\n",
    "- strategies for configuring hyperparameters\n",
    "- DEFAULT: 'RandomGridSearch' - random grid search\n",
    "- other options:\n",
    "    - 'FullGridSearch' - full grid search\n",
    "    - 'Custom' - custom settings according to the scikit-learn syntax that can be changed in the 'learning_function'-method - current settings: **params = {'kernel': 'linear', 'gamma': 'scale', 'C': 1000, 'epsilon': 1}\n",
    "\n",
    "#### predictor\n",
    "- strategies for selecting predictors\n",
    "- DEFAULT: 'RandomPoints' - randomly selected 100 points in the matrix - if less than 100 points with values in the metric, all non-gap values will be used as predictors; if less than 50 pixel have known values, interpolation is used to estimate the gaps\n",
    "- other options:\n",
    "    - 'AllPoints' - all known values -> runtime can be very big\n",
    "    - 'LCC' - the 40 closest pixels from the same land cover class (e.g. mixed forest) as the gap will be used as predictors - if there are less than 40 pixels from the same land cover class, the strategy changes to 'RandomPoints'"
   ]
  },
  {
   "cell_type": "markdown",
   "id": "d6c8997b8b6ed2c6",
   "metadata": {
    "collapsed": false,
    "jupyter": {
     "outputs_hidden": false
    }
   },
   "source": [
    "## Observations and recommendations (so far)\n",
    "\n",
    "In terms of runtime and accuracy, 'RandomGridSearch' works best for configuring hyperparameters and 'LCC' for selecting predictors; 'RandomPoints' or other categorical variables might be suitable options to estimate the gaps, depending on the use case.\n",
    "Since a model is created for each gap pixel, the runtime increases linearly proportional to the number of gaps, while the accuracy deteriorates only slightly.\n",
    "For the number of training samples, no more than 40-100 arrays need to be cut from the respective area - since the recordings in the data cube occur every 8 days and the runtime increases with the number of training samples, 1-2 years could be sufficient as a time period. "
   ]
  },
  {
   "cell_type": "markdown",
   "id": "c0c87741d36226a5",
   "metadata": {
    "collapsed": false,
    "jupyter": {
     "outputs_hidden": false
    }
   },
   "source": [
    "## Example with added artificial gaps"
   ]
  },
  {
   "cell_type": "code",
   "execution_count": 1,
   "id": "feef2bf8db3f241e",
   "metadata": {
    "ExecuteTime": {
     "end_time": "2023-09-28T18:14:26.688277118Z",
     "start_time": "2023-09-28T18:14:00.718268705Z"
    },
    "collapsed": false,
    "jupyter": {
     "outputs_hidden": false
    }
   },
   "outputs": [
    {
     "name": "stdout",
     "output_type": "stream",
     "text": [
      "GermanyNB_artificial_gaps {'time': 46, 'lat': 72, 'lon': 108}\n",
      "No of files: 46\n",
      "1 / 46\n",
      "2 / 46\n",
      "3 / 46\n",
      "4 / 46\n",
      "5 / 46\n",
      "6 / 46\n",
      "7 / 46\n",
      "8 / 46\n",
      "9 / 46\n",
      "10 / 46\n",
      "11 / 46\n",
      "12 / 46\n",
      "13 / 46\n",
      "14 / 46\n",
      "15 / 46\n",
      "16 / 46\n",
      "17 / 46\n",
      "18 / 46\n",
      "19 / 46\n",
      "20 / 46\n",
      "21 / 46\n",
      "22 / 46\n",
      "23 / 46\n",
      "24 / 46\n",
      "25 / 46\n",
      "26 / 46\n",
      "27 / 46\n",
      "28 / 46\n",
      "29 / 46\n",
      "30 / 46\n",
      "31 / 46\n",
      "32 / 46\n",
      "33 / 46\n",
      "34 / 46\n",
      "35 / 46\n",
      "36 / 46\n",
      "37 / 46\n",
      "38 / 46\n",
      "39 / 46\n",
      "40 / 46\n",
      "41 / 46\n",
      "42 / 46\n",
      "43 / 46\n",
      "44 / 46\n",
      "45 / 46\n",
      "46 / 46\n",
      "Structure {'complete': 0, 'empty': 0, 'gaps': 46}\n",
      "date: 2008-04-10\n",
      "real gap size:  63 %\n",
      "Exception: gap size 50.0 % -> contains not enough non-NaN values. No array with imitated gaps was created.\n",
      "Exception: gap size 75.0 % -> contains not enough non-NaN values. No array with imitated gaps was created.\n",
      "7 arrays with gaps were created!\n",
      "runtime: 41.09\n"
     ]
    }
   ],
   "source": [
    "import datetime\n",
    "from xcube.core.store import new_data_store\n",
    "\n",
    "# add path, if mltools not installed\n",
    "import sys\n",
    "sys.path.append('../mltools')\n",
    "\n",
    "from mltools.gap_dataset import EarthSystemDataCubeS3\n",
    "from mltools.gap_filling import SupportVectorRegressionGapfill\n",
    "\n",
    "\n",
    "# Directory name\n",
    "ds_name = 'GermanyNB_artificial_gaps'\n",
    "# Variable that will be estimated e.g. 'land_surface_temperature' or 'air_temperature_2m'\n",
    "variable = 'land_surface_temperature'\n",
    "# Dimension values of the datacube, e.g. Latitude and longitude and of the area and times.\n",
    "# Global range: lat = (90, -90), lon = (-180, 180)\n",
    "dimensions = {\n",
    "    'lat': (54, 48),\n",
    "    'lon': (6, 15),\n",
    "    'times': (datetime.date(2008, 1, 1), datetime.date(2008, 12, 31))\n",
    "}\n",
    "# List of artificial gaps that will be created\n",
    "# if no artificial gaps should be created, the gapfilling algorithms will perform on real gaps\n",
    "# options: None or list of artificial gap sizes e.g. [0.001, 0.01, 0.1, 0.25, 0.5, 0.75]\n",
    "artificial_gaps = [0.001, 0.005, 0.01, 0.05, 0.1, 0.2, 0.25, 0.5, 0.75]\n",
    "# Speficy whether the actual matrix will be chosen random or is from a specific file.\n",
    "# Options: 'Random' or datetime.date of the specific file e.g. datetime.date(2008, 12, 14)\n",
    "actual_matrix = 'Random'\n",
    "\n",
    "data_store = new_data_store(\"s3\", root=\"esdl-esdc-v2.1.1\", storage_options=dict(anon=True))\n",
    "dataset = data_store.open_data('esdc-8d-0.083deg-184x270x270-2.1.1.zarr')\n",
    "# Select the variable of interest from the dataset\n",
    "ds = dataset[variable]\n",
    "\n",
    "EarthSystemDataCubeS3(ds, ds_name, dimensions, artificial_gaps, actual_matrix).get_data()"
   ]
  },
  {
   "cell_type": "code",
   "execution_count": 2,
   "id": "78acd0341eef054a",
   "metadata": {
    "ExecuteTime": {
     "end_time": "2023-09-28T18:21:54.145260955Z",
     "start_time": "2023-09-28T18:15:45.334713175Z"
    },
    "collapsed": false,
    "jupyter": {
     "outputs_hidden": false
    }
   },
   "outputs": [
    {
     "name": "stdout",
     "output_type": "stream",
     "text": [
      "date: 2008-04-10 \n",
      "gap size: 0.1 % -> 7 pixel \n",
      "training pictures: 45\n",
      "MAE actual: 1.65\n",
      "MAE cross validation: 1.121\n",
      "runtime: 0.15 seconds \n",
      "\n",
      "date: 2008-04-10 \n",
      "gap size: 0.5 % -> 38 pixel \n",
      "training pictures: 45\n",
      "MAE actual: 1.503\n",
      "MAE cross validation: 0.97\n",
      "runtime: 0.65 seconds \n",
      "\n",
      "date: 2008-04-10 \n",
      "gap size: 1.0 % -> 77 pixel \n",
      "training pictures: 45\n",
      "MAE actual: 1.612\n",
      "MAE cross validation: 0.99\n",
      "runtime: 1.38 seconds \n",
      "\n",
      "date: 2008-04-10 \n",
      "gap size: 5.0 % -> 388 pixel \n",
      "training pictures: 45\n",
      "MAE actual: 1.486\n",
      "MAE cross validation: 1.08\n",
      "runtime: 6.60 seconds \n",
      "\n",
      "date: 2008-04-10 \n",
      "gap size: 10.0 % -> 777 pixel \n",
      "training pictures: 45\n",
      "MAE actual: 1.586\n",
      "MAE cross validation: 1.152\n",
      "runtime: 13.52 seconds \n",
      "\n",
      "date: 2008-04-10 \n",
      "gap size: 20.0 % -> 1555 pixel \n",
      "training pictures: 45\n",
      "MAE actual: 1.652\n",
      "MAE cross validation: 1.272\n",
      "runtime: 27.69 seconds \n",
      "\n",
      "date: 2008-04-10 \n",
      "gap size: 25.0 % -> 1944 pixel \n",
      "training pictures: 45\n",
      "MAE actual: 1.823\n",
      "MAE cross validation: 1.284\n",
      "runtime: 35.66 seconds \n",
      "\n"
     ]
    }
   ],
   "source": [
    "# Directory name based on the input name in 'GapDataset'\n",
    "ds_name = 'GermanyNB_artificial_gaps'\n",
    "# Choose hyperparameter settings. Options: 'RandomGridSearch' | 'FullGridSearch' | 'Custom'\n",
    "hyperparameters = \"RandomGridSearch\"\n",
    "# Choose the predictor type. Options: 'AllPoints' | 'LCC' | 'RandomPoints'\n",
    "predictor = \"LCC\"\n",
    "# Create an instance of the SupportVectorRegressionGapfill class with the specified settings\n",
    "SVR_Gapfiller = SupportVectorRegressionGapfill(ds_name=ds_name, hyperparameters=hyperparameters, predictor=predictor)\n",
    "# Perform the gap filling using the chosen settings\n",
    "SVR_Gapfiller.gapfill()"
   ]
  },
  {
   "cell_type": "markdown",
   "id": "ebd09804d57ec264",
   "metadata": {
    "collapsed": false,
    "jupyter": {
     "outputs_hidden": false
    }
   },
   "source": [
    "## Example without artificial gaps where the algorithm estimates real gaps"
   ]
  },
  {
   "cell_type": "code",
   "execution_count": 3,
   "id": "69dce6d04aef2279",
   "metadata": {
    "ExecuteTime": {
     "end_time": "2023-09-28T18:27:05.878837787Z",
     "start_time": "2023-09-28T18:26:43.156116001Z"
    },
    "collapsed": false,
    "jupyter": {
     "outputs_hidden": false
    }
   },
   "outputs": [
    {
     "name": "stdout",
     "output_type": "stream",
     "text": [
      "GermanyNB_with_real_gaps {'time': 46, 'lat': 72, 'lon': 108}\n",
      "No of files: 46\n",
      "1 / 46\n",
      "2 / 46\n",
      "3 / 46\n",
      "4 / 46\n",
      "5 / 46\n",
      "6 / 46\n",
      "7 / 46\n",
      "8 / 46\n",
      "9 / 46\n",
      "10 / 46\n",
      "11 / 46\n",
      "12 / 46\n",
      "13 / 46\n",
      "14 / 46\n",
      "15 / 46\n",
      "16 / 46\n",
      "17 / 46\n",
      "18 / 46\n",
      "19 / 46\n",
      "20 / 46\n",
      "21 / 46\n",
      "22 / 46\n",
      "23 / 46\n",
      "24 / 46\n",
      "25 / 46\n",
      "26 / 46\n",
      "27 / 46\n",
      "28 / 46\n",
      "29 / 46\n",
      "30 / 46\n",
      "31 / 46\n",
      "32 / 46\n",
      "33 / 46\n",
      "34 / 46\n",
      "35 / 46\n",
      "36 / 46\n",
      "37 / 46\n",
      "38 / 46\n",
      "39 / 46\n",
      "40 / 46\n",
      "41 / 46\n",
      "42 / 46\n",
      "43 / 46\n",
      "44 / 46\n",
      "45 / 46\n",
      "46 / 46\n",
      "Structure {'complete': 0, 'empty': 0, 'gaps': 46}\n",
      "date: 2008-12-14\n",
      "real gap size:  21 %\n",
      "runtime: 43.48\n"
     ]
    }
   ],
   "source": [
    "# Directory name\n",
    "ds_name = 'GermanyNB_with_real_gaps'\n",
    "# Variable that will be estimated e.g. 'land_surface_temperature' or 'air_temperature_2m'\n",
    "variable = 'land_surface_temperature'\n",
    "# Dimension values of the datacube, e.g. Latitude and longitude and of the area and times.\n",
    "# Global range: lat = (90, -90), lon = (-180, 180)\n",
    "dimensions = {\n",
    "    'lat': (54, 48),\n",
    "    'lon': (6, 15),\n",
    "    'times': (datetime.date(2008, 1, 1), datetime.date(2008, 12, 31))\n",
    "}\n",
    "# List of artificial gaps that will be created\n",
    "# if no artificial gaps should be created, the gapfilling algorithms will perform on real gaps\n",
    "# options: None or list of artificial gap sizes e.g. [0.001, 0.01, 0.1, 0.25, 0.5, 0.75]\n",
    "artificial_gaps = None\n",
    "# Speficy whether the actual matrix will be chosen random or is from a specific file.\n",
    "# Options: 'Random' or datetime.date of the specific file e.g. datetime.date(2008, 12, 14)\n",
    "actual_matrix = datetime.date(2008, 12, 14)\n",
    "\n",
    "data_store = new_data_store(\"s3\", root=\"esdl-esdc-v2.1.1\", storage_options=dict(anon=True))\n",
    "dataset = data_store.open_data('esdc-8d-0.083deg-184x270x270-2.1.1.zarr')\n",
    "# Select the variable of interest from the dataset\n",
    "ds = dataset[variable]\n",
    "\n",
    "EarthSystemDataCubeS3(ds, ds_name, dimensions, artificial_gaps, actual_matrix).get_data()"
   ]
  },
  {
   "cell_type": "code",
   "execution_count": 5,
   "id": "ea013510dd60069",
   "metadata": {
    "ExecuteTime": {
     "end_time": "2023-09-28T18:28:08.468727657Z",
     "start_time": "2023-09-28T18:27:11.122304573Z"
    },
    "collapsed": false,
    "jupyter": {
     "outputs_hidden": false
    }
   },
   "outputs": [
    {
     "name": "stdout",
     "output_type": "stream",
     "text": [
      "date: 2008-12-14 \n",
      "gap size: 20.8 % -> 1617 pixel \n",
      "training pictures: 45\n"
     ]
    },
    {
     "ename": "IndexError",
     "evalue": "too many indices for array: array is 0-dimensional, but 1 were indexed",
     "output_type": "error",
     "traceback": [
      "\u001B[0;31m---------------------------------------------------------------------------\u001B[0m",
      "\u001B[0;31mIndexError\u001B[0m                                Traceback (most recent call last)",
      "Cell \u001B[0;32mIn[5], line 10\u001B[0m\n\u001B[1;32m      8\u001B[0m SVR_Gapfiller \u001B[38;5;241m=\u001B[39m SupportVectorRegressionGapfill(ds_name\u001B[38;5;241m=\u001B[39mds_name, hyperparameters\u001B[38;5;241m=\u001B[39mhyperparameters, predictor\u001B[38;5;241m=\u001B[39mpredictor)\n\u001B[1;32m      9\u001B[0m \u001B[38;5;66;03m# Perform the gap filling using the chosen settings\u001B[39;00m\n\u001B[0;32m---> 10\u001B[0m \u001B[43mSVR_Gapfiller\u001B[49m\u001B[38;5;241;43m.\u001B[39;49m\u001B[43mgapfill\u001B[49m\u001B[43m(\u001B[49m\u001B[43m)\u001B[49m\n",
      "File \u001B[0;32m~/ML-Toolkits/Examples/../mltools/mltools/gapfilling.py:95\u001B[0m, in \u001B[0;36mGapfiller.gapfill\u001B[0;34m(self)\u001B[0m\n\u001B[1;32m     91\u001B[0m     \u001B[38;5;28mself\u001B[39m\u001B[38;5;241m.\u001B[39mtemp_known_pixels \u001B[38;5;241m=\u001B[39m all_pixels \u001B[38;5;241m-\u001B[39m (\u001B[38;5;28mself\u001B[39m\u001B[38;5;241m.\u001B[39mtemp_array_with_gaps \u001B[38;5;241m==\u001B[39m \u001B[38;5;28mself\u001B[39m\u001B[38;5;241m.\u001B[39mgap_value)\u001B[38;5;241m.\u001B[39msum() \u001B[38;5;241m-\u001B[39m np\u001B[38;5;241m.\u001B[39misnan(\n\u001B[1;32m     92\u001B[0m         \u001B[38;5;28mself\u001B[39m\u001B[38;5;241m.\u001B[39mtemp_array_with_gaps)\u001B[38;5;241m.\u001B[39msum()\n\u001B[1;32m     94\u001B[0m \u001B[38;5;66;03m# Use parallel processing to fill gaps for each pixel in the gap_indices\u001B[39;00m\n\u001B[0;32m---> 95\u001B[0m \u001B[38;5;28;01mfor\u001B[39;00m gap_pred_score \u001B[38;5;129;01min\u001B[39;00m \u001B[38;5;28;43mself\u001B[39;49m\u001B[38;5;241;43m.\u001B[39;49m\u001B[43mpool\u001B[49m\u001B[38;5;241;43m.\u001B[39;49m\u001B[43mmap\u001B[49m\u001B[43m(\u001B[49m\u001B[38;5;28;43mself\u001B[39;49m\u001B[38;5;241;43m.\u001B[39;49m\u001B[43mpixel_model\u001B[49m\u001B[43m,\u001B[49m\u001B[43m \u001B[49m\u001B[43mgap_indices\u001B[49m\u001B[43m)\u001B[49m:\n\u001B[1;32m     96\u001B[0m     gap_index \u001B[38;5;241m=\u001B[39m gap_pred_score[\u001B[38;5;241m0\u001B[39m]\n\u001B[1;32m     97\u001B[0m     \u001B[38;5;66;03m# Update the filled_array with the predicted values for the current pixel\u001B[39;00m\n",
      "File \u001B[0;32m~/miniconda3/envs/xcube_gapfill/lib/python3.12/multiprocessing/pool.py:367\u001B[0m, in \u001B[0;36mPool.map\u001B[0;34m(self, func, iterable, chunksize)\u001B[0m\n\u001B[1;32m    362\u001B[0m \u001B[38;5;28;01mdef\u001B[39;00m \u001B[38;5;21mmap\u001B[39m(\u001B[38;5;28mself\u001B[39m, func, iterable, chunksize\u001B[38;5;241m=\u001B[39m\u001B[38;5;28;01mNone\u001B[39;00m):\n\u001B[1;32m    363\u001B[0m \u001B[38;5;250m    \u001B[39m\u001B[38;5;124;03m'''\u001B[39;00m\n\u001B[1;32m    364\u001B[0m \u001B[38;5;124;03m    Apply `func` to each element in `iterable`, collecting the results\u001B[39;00m\n\u001B[1;32m    365\u001B[0m \u001B[38;5;124;03m    in a list that is returned.\u001B[39;00m\n\u001B[1;32m    366\u001B[0m \u001B[38;5;124;03m    '''\u001B[39;00m\n\u001B[0;32m--> 367\u001B[0m     \u001B[38;5;28;01mreturn\u001B[39;00m \u001B[38;5;28;43mself\u001B[39;49m\u001B[38;5;241;43m.\u001B[39;49m\u001B[43m_map_async\u001B[49m\u001B[43m(\u001B[49m\u001B[43mfunc\u001B[49m\u001B[43m,\u001B[49m\u001B[43m \u001B[49m\u001B[43miterable\u001B[49m\u001B[43m,\u001B[49m\u001B[43m \u001B[49m\u001B[43mmapstar\u001B[49m\u001B[43m,\u001B[49m\u001B[43m \u001B[49m\u001B[43mchunksize\u001B[49m\u001B[43m)\u001B[49m\u001B[38;5;241;43m.\u001B[39;49m\u001B[43mget\u001B[49m\u001B[43m(\u001B[49m\u001B[43m)\u001B[49m\n",
      "File \u001B[0;32m~/miniconda3/envs/xcube_gapfill/lib/python3.12/multiprocessing/pool.py:774\u001B[0m, in \u001B[0;36mApplyResult.get\u001B[0;34m(self, timeout)\u001B[0m\n\u001B[1;32m    772\u001B[0m     \u001B[38;5;28;01mreturn\u001B[39;00m \u001B[38;5;28mself\u001B[39m\u001B[38;5;241m.\u001B[39m_value\n\u001B[1;32m    773\u001B[0m \u001B[38;5;28;01melse\u001B[39;00m:\n\u001B[0;32m--> 774\u001B[0m     \u001B[38;5;28;01mraise\u001B[39;00m \u001B[38;5;28mself\u001B[39m\u001B[38;5;241m.\u001B[39m_value\n",
      "File \u001B[0;32m~/miniconda3/envs/xcube_gapfill/lib/python3.12/multiprocessing/pool.py:125\u001B[0m, in \u001B[0;36mworker\u001B[0;34m(inqueue, outqueue, initializer, initargs, maxtasks, wrap_exception)\u001B[0m\n\u001B[1;32m    123\u001B[0m job, i, func, args, kwds \u001B[38;5;241m=\u001B[39m task\n\u001B[1;32m    124\u001B[0m \u001B[38;5;28;01mtry\u001B[39;00m:\n\u001B[0;32m--> 125\u001B[0m     result \u001B[38;5;241m=\u001B[39m (\u001B[38;5;28;01mTrue\u001B[39;00m, \u001B[43mfunc\u001B[49m\u001B[43m(\u001B[49m\u001B[38;5;241;43m*\u001B[39;49m\u001B[43margs\u001B[49m\u001B[43m,\u001B[49m\u001B[43m \u001B[49m\u001B[38;5;241;43m*\u001B[39;49m\u001B[38;5;241;43m*\u001B[39;49m\u001B[43mkwds\u001B[49m\u001B[43m)\u001B[49m)\n\u001B[1;32m    126\u001B[0m \u001B[38;5;28;01mexcept\u001B[39;00m \u001B[38;5;167;01mException\u001B[39;00m \u001B[38;5;28;01mas\u001B[39;00m e:\n\u001B[1;32m    127\u001B[0m     \u001B[38;5;28;01mif\u001B[39;00m wrap_exception \u001B[38;5;129;01mand\u001B[39;00m func \u001B[38;5;129;01mis\u001B[39;00m \u001B[38;5;129;01mnot\u001B[39;00m _helper_reraises_exception:\n",
      "File \u001B[0;32m~/miniconda3/envs/xcube_gapfill/lib/python3.12/multiprocessing/pool.py:48\u001B[0m, in \u001B[0;36mmapstar\u001B[0;34m(args)\u001B[0m\n\u001B[1;32m     47\u001B[0m \u001B[38;5;28;01mdef\u001B[39;00m \u001B[38;5;21mmapstar\u001B[39m(args):\n\u001B[0;32m---> 48\u001B[0m     \u001B[38;5;28;01mreturn\u001B[39;00m \u001B[38;5;28;43mlist\u001B[39;49m\u001B[43m(\u001B[49m\u001B[38;5;28;43mmap\u001B[39;49m\u001B[43m(\u001B[49m\u001B[38;5;241;43m*\u001B[39;49m\u001B[43margs\u001B[49m\u001B[43m)\u001B[49m\u001B[43m)\u001B[49m\n",
      "File \u001B[0;32m~/ML-Toolkits/Examples/../mltools/mltools/gapfilling.py:242\u001B[0m, in \u001B[0;36mGapfiller.pixel_model\u001B[0;34m(self, gap_index)\u001B[0m\n\u001B[1;32m    240\u001B[0m     validation_score \u001B[38;5;241m=\u001B[39m \u001B[38;5;124m\"\u001B[39m\u001B[38;5;124mnot available\u001B[39m\u001B[38;5;124m\"\u001B[39m\n\u001B[1;32m    241\u001B[0m \u001B[38;5;28;01melif\u001B[39;00m \u001B[38;5;28mtype\u001B[39m(prediction) \u001B[38;5;241m==\u001B[39m np\u001B[38;5;241m.\u001B[39mndarray:\n\u001B[0;32m--> 242\u001B[0m     prediction \u001B[38;5;241m=\u001B[39m \u001B[43mprediction\u001B[49m\u001B[43m[\u001B[49m\u001B[38;5;241;43m0\u001B[39;49m\u001B[43m]\u001B[49m  \u001B[38;5;66;03m# Extract the value if it's within an array\u001B[39;00m\n\u001B[1;32m    244\u001B[0m \u001B[38;5;28;01mif\u001B[39;00m \u001B[38;5;28mself\u001B[39m\u001B[38;5;241m.\u001B[39mactual_matrix \u001B[38;5;129;01mis\u001B[39;00m \u001B[38;5;129;01mnot\u001B[39;00m \u001B[38;5;28;01mNone\u001B[39;00m:\n\u001B[1;32m    245\u001B[0m     actual_value \u001B[38;5;241m=\u001B[39m \u001B[38;5;28mself\u001B[39m\u001B[38;5;241m.\u001B[39mactual_matrix[gap_index[\u001B[38;5;241m0\u001B[39m], gap_index[\u001B[38;5;241m1\u001B[39m]]\n",
      "\u001B[0;31mIndexError\u001B[0m: too many indices for array: array is 0-dimensional, but 1 were indexed"
     ]
    }
   ],
   "source": [
    "# Directory name based on the input name in 'GapDataset'\n",
    "ds_name = 'GermanyNB_with_real_gaps'\n",
    "# Choose hyperparameter settings. Options: 'RandomGridSearch' | 'FullGridSearch' | 'Custom'\n",
    "hyperparameters = \"RandomGridSearch\"\n",
    "# Choose the predictor type. Options: 'AllPoints' | 'LCC' | 'RandomPoints'\n",
    "predictor = \"LCC\"\n",
    "# Create an instance of the SupportVectorRegressionGapfill class with the specified settings\n",
    "SVR_Gapfiller = SupportVectorRegressionGapfill(ds_name=ds_name, hyperparameters=hyperparameters, predictor=predictor)\n",
    "# Perform the gap filling using the chosen settings\n",
    "SVR_Gapfiller.gapfill()"
   ]
  },
  {
   "cell_type": "markdown",
   "id": "3547984e03dcc024",
   "metadata": {
    "collapsed": false,
    "jupyter": {
     "outputs_hidden": false
    }
   },
   "source": []
  }
 ],
 "metadata": {
  "kernelspec": {
   "display_name": "Python 3 (ipykernel)",
   "language": "python",
   "name": "python3"
  },
  "language_info": {
   "codemirror_mode": {
    "name": "ipython",
    "version": 3
   },
   "file_extension": ".py",
   "mimetype": "text/x-python",
   "name": "python",
   "nbconvert_exporter": "python",
   "pygments_lexer": "ipython3",
   "version": "3.12.2"
  }
 },
 "nbformat": 4,
 "nbformat_minor": 5
}
